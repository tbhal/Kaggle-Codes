{
 "cells": [
  {
   "cell_type": "code",
   "execution_count": 1,
   "metadata": {
    "_cell_guid": "b1076dfc-b9ad-4769-8c92-a6c4dae69d19",
    "_uuid": "8f2839f25d086af736a60e9eeb907d3b93b6e0e5"
   },
   "outputs": [
    {
     "name": "stdout",
     "output_type": "stream",
     "text": [
      "/kaggle/input/Kannada-MNIST/Dig-MNIST.csv\n",
      "/kaggle/input/Kannada-MNIST/train.csv\n",
      "/kaggle/input/Kannada-MNIST/sample_submission.csv\n",
      "/kaggle/input/Kannada-MNIST/test.csv\n"
     ]
    }
   ],
   "source": [
    "# This Python 3 environment comes with many helpful analytics libraries installed\n",
    "# It is defined by the kaggle/python docker image: https://github.com/kaggle/docker-python\n",
    "# For example, here's several helpful packages to load in \n",
    "\n",
    "import numpy as np # linear algebra\n",
    "import pandas as pd # data processing, CSV file I/O (e.g. pd.read_csv)\n",
    "from fastai import *\n",
    "from fastai.vision import *\n",
    "# Input data files are available in the \"../input/\" directory.\n",
    "# For example, running this (by clicking run or pressing Shift+Enter) will list all files under the input directory\n",
    "\n",
    "import os\n",
    "for dirname, _, filenames in os.walk('/kaggle/input'):\n",
    "    for filename in filenames:\n",
    "        print(os.path.join(dirname, filename))\n",
    "\n",
    "# Any results you write to the current directory are saved as output."
   ]
  },
  {
   "cell_type": "code",
   "execution_count": 2,
   "metadata": {
    "_cell_guid": "79c7e3d0-c299-4dcb-8224-4455121ee9b0",
    "_uuid": "d629ff2d2480ee46fbb7e2d37f6b5fab8052498a"
   },
   "outputs": [],
   "source": [
    "def get_data_labels(csv,label):\n",
    "    fileraw = pd.read_csv(csv)\n",
    "    labels = fileraw[label].to_numpy()\n",
    "    data = fileraw.drop([label],axis=1).to_numpy(dtype=np.float32).reshape((fileraw.shape[0],28,28))\n",
    "    data = np.expand_dims(data, axis=1)\n",
    "    return data, labels\n",
    "\n",
    "DATAPATH = Path('/kaggle/input/Kannada-MNIST')"
   ]
  },
  {
   "cell_type": "code",
   "execution_count": 3,
   "metadata": {},
   "outputs": [],
   "source": [
    "train_data, train_labels = get_data_labels(DATAPATH/'train.csv','label')\n",
    "test_data, test_labels = get_data_labels(DATAPATH/'test.csv','id')\n",
    "dig_data, dig_labels = get_data_labels(DATAPATH/'Dig-MNIST.csv','label')"
   ]
  },
  {
   "cell_type": "code",
   "execution_count": 4,
   "metadata": {},
   "outputs": [
    {
     "name": "stdout",
     "output_type": "stream",
     "text": [
      " Train:\tdata shape (60000, 1, 28, 28)\tlabel shape (60000,)\n",
      " Test:\tdata shape (5000, 1, 28, 28)\tlabel shape (5000,)\n",
      " Dig-MNIST:\tdata shape (10240, 1, 28, 28)\tlabel shape (10240,)\n"
     ]
    }
   ],
   "source": [
    "print(f' Train:\\tdata shape {train_data.shape}\\tlabel shape {train_labels.shape}\\n \\\n",
    "Test:\\tdata shape {test_data.shape}\\tlabel shape {test_labels.shape}\\n \\\n",
    "Dig-MNIST:\\tdata shape {dig_data.shape}\\tlabel shape {dig_labels.shape}')"
   ]
  },
  {
   "cell_type": "code",
   "execution_count": 5,
   "metadata": {},
   "outputs": [],
   "source": [
    "np.random.seed(60)\n",
    "\n",
    "ran_10_pct_idx = (np.random.random_sample(train_labels.shape)) < .001\n",
    "\n",
    "train_90_labels = train_labels[np.invert(ran_10_pct_idx)]\n",
    "train_90_data = train_data[np.invert(ran_10_pct_idx)]\n",
    "\n",
    "valid_10_labels = train_labels[ran_10_pct_idx]\n",
    "valid_10_data = train_data[ran_10_pct_idx]"
   ]
  },
  {
   "cell_type": "code",
   "execution_count": 6,
   "metadata": {},
   "outputs": [],
   "source": [
    "class ArrayDataset(Dataset):\n",
    "    \"Dataset for numpy arrays based on fastai example: \"\n",
    "    def __init__(self, x, y):\n",
    "        self.x, self.y = x, y\n",
    "        self.c = len(np.unique(y))\n",
    "    \n",
    "    def __len__(self):\n",
    "        return len(self.x)\n",
    "    \n",
    "    def __getitem__(self, i):\n",
    "        return self.x[i], self.y[i]"
   ]
  },
  {
   "cell_type": "code",
   "execution_count": 7,
   "metadata": {},
   "outputs": [],
   "source": [
    "train_ds = ArrayDataset(train_90_data, train_90_labels)\n",
    "valid_ds = ArrayDataset(valid_10_data, valid_10_labels)\n",
    "dig_ds = ArrayDataset(dig_data, dig_labels)\n",
    "test_ds = ArrayDataset(test_data, test_labels)\n",
    "bs = 256"
   ]
  },
  {
   "cell_type": "code",
   "execution_count": 8,
   "metadata": {},
   "outputs": [],
   "source": [
    "databunch = DataBunch.create(train_ds, valid_ds, test_ds=test_ds, bs=bs)\n",
    "def conv2(ni, nf, stride=2, ks=5):\n",
    "    return conv_layer(ni, nf, stride=stride, ks=ks)"
   ]
  },
  {
   "cell_type": "code",
   "execution_count": 9,
   "metadata": {},
   "outputs": [],
   "source": [
    "my_architecture = nn.Sequential(\n",
    "    conv2(1,32,stride=1,ks=5),\n",
    "    conv2(32,32,stride=1,ks=5),\n",
    "    conv2(32,32,stride=2,ks=8),\n",
    "    nn.Dropout(0.4),\n",
    "    \n",
    "    conv2(32,64,stride=1,ks=5),\n",
    "    conv2(64,64,stride=1,ks=5),\n",
    "    conv2(64,64,stride=2,ks=5),\n",
    "    nn.Dropout(0.4),\n",
    "    \n",
    "    Flatten(),\n",
    "    nn.Linear(3136, 256),\n",
    "    relu(inplace=True),\n",
    "    nn.BatchNorm1d(256),\n",
    "    nn.Dropout(0.4),\n",
    "    nn.Linear(256,10)\n",
    ")\n",
    "\n",
    "learn = Learner(databunch, my_architecture, loss_func = nn.CrossEntropyLoss(), metrics=[accuracy] )"
   ]
  },
  {
   "cell_type": "code",
   "execution_count": 10,
   "metadata": {},
   "outputs": [
    {
     "data": {
      "text/html": [
       "<table border=\"1\" class=\"dataframe\">\n",
       "  <thead>\n",
       "    <tr style=\"text-align: left;\">\n",
       "      <th>epoch</th>\n",
       "      <th>train_loss</th>\n",
       "      <th>valid_loss</th>\n",
       "      <th>accuracy</th>\n",
       "      <th>time</th>\n",
       "    </tr>\n",
       "  </thead>\n",
       "  <tbody>\n",
       "    <tr>\n",
       "      <td>0</td>\n",
       "      <td>0.089237</td>\n",
       "      <td>0.116848</td>\n",
       "      <td>0.980392</td>\n",
       "      <td>05:33</td>\n",
       "    </tr>\n",
       "    <tr>\n",
       "      <td>1</td>\n",
       "      <td>0.033730</td>\n",
       "      <td>0.005970</td>\n",
       "      <td>1.000000</td>\n",
       "      <td>05:34</td>\n",
       "    </tr>\n",
       "    <tr>\n",
       "      <td>2</td>\n",
       "      <td>0.023900</td>\n",
       "      <td>0.000326</td>\n",
       "      <td>1.000000</td>\n",
       "      <td>05:33</td>\n",
       "    </tr>\n",
       "    <tr>\n",
       "      <td>3</td>\n",
       "      <td>0.014854</td>\n",
       "      <td>0.005033</td>\n",
       "      <td>1.000000</td>\n",
       "      <td>05:35</td>\n",
       "    </tr>\n",
       "    <tr>\n",
       "      <td>4</td>\n",
       "      <td>0.006794</td>\n",
       "      <td>0.000128</td>\n",
       "      <td>1.000000</td>\n",
       "      <td>05:38</td>\n",
       "    </tr>\n",
       "  </tbody>\n",
       "</table>"
      ],
      "text/plain": [
       "<IPython.core.display.HTML object>"
      ]
     },
     "metadata": {},
     "output_type": "display_data"
    }
   ],
   "source": [
    "learn.fit_one_cycle(5)"
   ]
  },
  {
   "cell_type": "code",
   "execution_count": 11,
   "metadata": {},
   "outputs": [],
   "source": [
    "preds, ids = learn.get_preds(DatasetType.Test)\n",
    "y = torch.argmax(preds, dim=1)"
   ]
  },
  {
   "cell_type": "code",
   "execution_count": 12,
   "metadata": {},
   "outputs": [],
   "source": [
    "submission = pd.DataFrame({ 'id': ids,'label': y })\n",
    "submission.to_csv(path_or_buf =\"submission.csv\", index=False)"
   ]
  }
 ],
 "metadata": {
  "kernelspec": {
   "display_name": "Python 3",
   "language": "python",
   "name": "python3"
  },
  "language_info": {
   "codemirror_mode": {
    "name": "ipython",
    "version": 3
   },
   "file_extension": ".py",
   "mimetype": "text/x-python",
   "name": "python",
   "nbconvert_exporter": "python",
   "pygments_lexer": "ipython3",
   "version": "3.6.6"
  }
 },
 "nbformat": 4,
 "nbformat_minor": 1
}
